{
  "nbformat": 4,
  "nbformat_minor": 0,
  "metadata": {
    "colab": {
      "provenance": []
    },
    "kernelspec": {
      "name": "python3",
      "display_name": "Python 3"
    },
    "language_info": {
      "name": "python"
    }
  },
  "cells": [
    {
      "cell_type": "markdown",
      "source": [
        "This project builds and evaluates a next-day price direction model for NVIDIA (NVDA) using daily OHLCV data. The goal is to answer a practical question: when is it worth taking a long position for the next trading day? We approach this as a supervised classification task and compare two tree-based methods—Random Forest and XGBoost—on both raw prices and simple, causal technical features.\n",
        "\n",
        "Data & label\n",
        "1.   Source: yfinance adjusted daily OHLCV for NVDA.\n",
        "2.   Target: 1 if tomorrow’s close > today’s close, else 0.\n",
        "\n",
        "\n",
        "Features\n",
        "\n",
        "1. Baseline: raw Open, High, Low, Close, Volume.\n",
        "\n",
        "2. Engineered (causal at decision time): rolling Close/MA ratios and past up-day counts (“Trend”) over multiple horizons (2, 5, 60, 250, 1000).\n",
        "\n",
        "Methodology\n",
        "\n",
        "1. Train classifiers to output probabilities; convert to signals with a tunable probability threshold (trade-off between hit rate and number of trades).\n",
        "\n",
        "2. Use an expanding, walk-forward backtest (no look-ahead): repeatedly train on past data and test strictly on future slices.\n",
        "\n",
        "Evaluation\n",
        "\n",
        "1. Classification: Precision, Recall, F1, Coverage (how often we trade) and confusion matrix.\n",
        "\n",
        "2. Strategy proxy: simple gross next-day return when a long signal is issued (no costs), plus average return per trade.\n",
        "\n",
        "3. Threshold sweeps to visualize precision vs. coverage."
      ],
      "metadata": {
        "id": "ue7wJ2MM0atE"
      }
    },
    {
      "cell_type": "markdown",
      "source": [
        "1. Install & imports"
      ],
      "metadata": {
        "id": "OcOIfI1ln1ES"
      }
    },
    {
      "cell_type": "code",
      "source": [
        "# ------------------------------------------------------------\n",
        "# Step 1) Imports & reproducibility\n",
        "# ------------------------------------------------------------\n",
        "import numpy as np\n",
        "import pandas as pd\n",
        "import matplotlib.pyplot as plt\n",
        "\n",
        "import yfinance as yf\n",
        "\n",
        "from sklearn.ensemble import RandomForestClassifier\n",
        "from sklearn.metrics import precision_score, recall_score, f1_score, confusion_matrix\n",
        "from xgboost import XGBClassifier\n",
        "\n",
        "RNG_SEED = 1              # fixed seed so results are reproducible\n",
        "np.random.seed(RNG_SEED)  # set numpy's seed (tree libs also use random_state)\n"
      ],
      "metadata": {
        "id": "SKdJFawJnsld"
      },
      "execution_count": 27,
      "outputs": []
    },
    {
      "cell_type": "markdown",
      "source": [
        "2. Download NVDA data (adjusted) & quick peek"
      ],
      "metadata": {
        "id": "GVylBLixn5qY"
      }
    },
    {
      "cell_type": "code",
      "source": [
        "# ------------------------------------------------------------\n",
        "# Step 2) Download NVDA (adjusted OHLCV), create Target label\n",
        "# ------------------------------------------------------------\n",
        "# auto_adjust=True returns split/dividend-adjusted prices to avoid artificial jumps\n",
        "nvda = yf.Ticker(\"NVDA\").history(period=\"max\", auto_adjust=True)\n",
        "\n",
        "# keep a clean OHLCV (OHLCV: Open, High, Low, Close, Volume for each day (from yfinance)) subset\n",
        "nvda = nvda[[\"Open\",\"High\",\"Low\",\"Close\",\"Volume\"]].copy()\n",
        "\n",
        "# create tomorrow's close (shift -1) and direction label: 1 if tomorrow > today else 0\n",
        "nvda[\"Tomorrow\"] = nvda[\"Close\"].shift(-1)\n",
        "nvda[\"Target\"]   = (nvda[\"Tomorrow\"] > nvda[\"Close\"]).astype(int)\n",
        "\n",
        "# the last row has Tomorrow=NaN, drop it\n",
        "nvda = nvda.dropna(subset=[\"Tomorrow\"]).copy()\n",
        "\n",
        "# quick peek\n",
        "print(\"NVDA (head):\")\n",
        "print(nvda.head(), \"\\n\")\n",
        "print(\"NVDA (tail):\")\n",
        "print(nvda.tail(), \"\\n\")"
      ],
      "metadata": {
        "colab": {
          "base_uri": "https://localhost:8080/"
        },
        "id": "AIpFsivgol1u",
        "outputId": "2cf7e473-2a29-4b3e-afa8-01a787c03452"
      },
      "execution_count": 28,
      "outputs": [
        {
          "output_type": "stream",
          "name": "stdout",
          "text": [
            "NVDA (head):\n",
            "                               Open      High       Low     Close      Volume  \\\n",
            "Date                                                                            \n",
            "1999-01-22 00:00:00-05:00  0.040116  0.044772  0.035579  0.037609  2714688000   \n",
            "1999-01-25 00:00:00-05:00  0.040594  0.042026  0.037609  0.041549   510480000   \n",
            "1999-01-26 00:00:00-05:00  0.042026  0.042862  0.037728  0.038325   343200000   \n",
            "1999-01-27 00:00:00-05:00  0.038444  0.039400  0.036295  0.038206   244368000   \n",
            "1999-01-28 00:00:00-05:00  0.038206  0.038444  0.037848  0.038086   227520000   \n",
            "\n",
            "                           Tomorrow  Target  \n",
            "Date                                         \n",
            "1999-01-22 00:00:00-05:00  0.041549       1  \n",
            "1999-01-25 00:00:00-05:00  0.038325       0  \n",
            "1999-01-26 00:00:00-05:00  0.038206       0  \n",
            "1999-01-27 00:00:00-05:00  0.038086       0  \n",
            "1999-01-28 00:00:00-05:00  0.036295       0   \n",
            "\n",
            "NVDA (tail):\n",
            "                                 Open        High         Low       Close  \\\n",
            "Date                                                                        \n",
            "2025-08-22 00:00:00-04:00  172.610001  178.589996  171.199997  177.990005   \n",
            "2025-08-25 00:00:00-04:00  178.350006  181.910004  176.570007  179.809998   \n",
            "2025-08-26 00:00:00-04:00  180.059998  182.389999  178.809998  181.770004   \n",
            "2025-08-27 00:00:00-04:00  181.979996  182.490005  179.100006  181.600006   \n",
            "2025-08-28 00:00:00-04:00  180.820007  184.470001  176.410004  180.169998   \n",
            "\n",
            "                              Volume    Tomorrow  Target  \n",
            "Date                                                      \n",
            "2025-08-22 00:00:00-04:00  172789400  179.809998       1  \n",
            "2025-08-25 00:00:00-04:00  163012800  181.770004       1  \n",
            "2025-08-26 00:00:00-04:00  168688200  181.600006       0  \n",
            "2025-08-27 00:00:00-04:00  235518900  180.169998       0  \n",
            "2025-08-28 00:00:00-04:00  281787800  174.179993       0   \n",
            "\n"
          ]
        }
      ]
    },
    {
      "cell_type": "markdown",
      "source": [
        "3. Quick close chart"
      ],
      "metadata": {
        "id": "JdIIjwNbosj7"
      }
    },
    {
      "cell_type": "code",
      "source": [
        "# ------------------------------------------------------------\n",
        "# Step 3) Quick close chart for context\n",
        "# ------------------------------------------------------------\n",
        "ax = nvda[\"Close\"].plot(title=\"NVDA Close (Adjusted)\")\n",
        "ax.set_xlabel(\"Date\"); ax.set_ylabel(\"Price\")\n",
        "plt.show()\n"
      ],
      "metadata": {
        "colab": {
          "base_uri": "https://localhost:8080/",
          "height": 444
        },
        "id": "9VsBpOx2pkkg",
        "outputId": "944957cc-401b-49ff-faa2-bee6db9f120c"
      },
      "execution_count": 29,
      "outputs": [
        {
          "output_type": "display_data",
          "data": {
            "text/plain": [
              "<Figure size 640x480 with 1 Axes>"
            ],
            "image/png": "[encoded data removed]"
          },
          "metadata": {}
        }
      ]
    },
    {
      "cell_type": "markdown",
      "source": [
        "4. A tiny baseline holdout test (sanity check)"
      ],
      "metadata": {
        "id": "DPqY6hnlp0rT"
      }
    },
    {
      "cell_type": "code",
      "source": [
        "# ------------------------------------------------------------\n",
        "# Step 4) Tiny baseline: RF on raw OHLCV with a simple holdout\n",
        "# ------------------------------------------------------------\n",
        "# NOTE: this is just a sanity check; the real eval is the walk-forward backtest later\n",
        "predictors_raw = [\"Close\",\"Volume\",\"Open\",\"High\",\"Low\"]\n",
        "\n",
        "train_raw = nvda.iloc[:-100]   # train on everything but last 100 rows\n",
        "test_raw  = nvda.iloc[-100:]   # test on the most recent 100 rows\n",
        "\n",
        "rf_quick = RandomForestClassifier(\n",
        "    n_estimators=100,\n",
        "    min_samples_split=100,\n",
        "    random_state=RNG_SEED,\n",
        "    n_jobs=-1\n",
        ")\n",
        "rf_quick.fit(train_raw[predictors_raw], train_raw[\"Target\"])\n",
        "pred_raw = rf_quick.predict(test_raw[predictors_raw])\n",
        "\n",
        "prec_quick = precision_score(test_raw[\"Target\"], pred_raw)\n",
        "print(f\"Quick holdout precision (RF, raw OHLCV): {prec_quick:.3f}\\n\")"
      ],
      "metadata": {
        "colab": {
          "base_uri": "https://localhost:8080/"
        },
        "id": "-mmsbI4ap4tX",
        "outputId": "f2a3321f-3831-4672-e664-84514dd866ed"
      },
      "execution_count": 30,
      "outputs": [
        {
          "output_type": "stream",
          "name": "stdout",
          "text": [
            "Quick holdout precision (RF, raw OHLCV): 0.640\n",
            "\n"
          ]
        }
      ]
    },
    {
      "cell_type": "markdown",
      "source": [
        "5) Rolling features (momentum ratios + past trend)"
      ],
      "metadata": {
        "id": "uio4_d3WqC2P"
      }
    },
    {
      "cell_type": "code",
      "source": [
        "# ------------------------------------------------------------\n",
        "# Step 5) Feature engineering: momentum ratios + past trend\n",
        "# ------------------------------------------------------------\n",
        "# We build two features per horizon h:\n",
        "#  1) Close Ratio_h  = Close / rolling_mean(Close, h)      --> normalized momentum\n",
        "#  2) Trend_h        = sum of past up-days over last h days --> recent win-rate\n",
        "# We use shift(1) before rolling on Target to avoid look-ahead bias.\n",
        "\n",
        "horizons = [2, 5, 60, 250, 1000]\n",
        "new_predictors = []\n",
        "\n",
        "for h in horizons:\n",
        "    # rolling mean for the ratio\n",
        "    rolling_mean = nvda[\"Close\"].rolling(h).mean()\n",
        "    ratio_col = f\"Close Ratio_{h}\"\n",
        "    nvda[ratio_col] = nvda[\"Close\"] / rolling_mean\n",
        "\n",
        "    # past up-day trend (shift so \"today\" isn't included)\n",
        "    trend_col = f\"Trend_{h}\"\n",
        "    nvda[trend_col] = nvda[\"Target\"].shift(1).rolling(h).sum()\n",
        "\n",
        "    new_predictors += [ratio_col, trend_col]\n",
        "\n",
        "# with 1000-day windows, early rows are NaN; drop them for a clean ML dataset\n",
        "data_ml = nvda.dropna().copy()\n",
        "print(\"First usable date after feature windows:\", data_ml.index[0].date(), \"\\n\")"
      ],
      "metadata": {
        "colab": {
          "base_uri": "https://localhost:8080/"
        },
        "id": "BQ0CnZCcqA5F",
        "outputId": "0bcfdd85-fb1b-4248-904c-d28ce3807ac5"
      },
      "execution_count": 32,
      "outputs": [
        {
          "output_type": "stream",
          "name": "stdout",
          "text": [
            "First usable date after feature windows: 2003-01-15 \n",
            "\n"
          ]
        }
      ]
    },
    {
      "cell_type": "markdown",
      "source": [
        "6) Backtesting helpers (probabilities → labels, walk-forward backtest, summaries)"
      ],
      "metadata": {
        "id": "Py89I5ycqM3B"
      }
    },
    {
      "cell_type": "code",
      "source": [
        "# ------------------------------------------------------------\n",
        "# Step 6) Backtesting helpers (prob thresholding, fit/predict, WF backtest, summaries)\n",
        "# ------------------------------------------------------------\n",
        "def proba_to_labels(p: pd.Series, threshold: float = 0.60) -> pd.Series:\n",
        "    \"\"\"\n",
        "    Convert positive-class probabilities to {0,1} using a fixed threshold.\n",
        "    Higher threshold = fewer but higher-confidence positive calls.\n",
        "    \"\"\"\n",
        "    return (p >= threshold).astype(int)\n",
        "\n",
        "def fit_predict_proba(model, train_df: pd.DataFrame, test_df: pd.DataFrame, predictors: list) -> pd.Series:\n",
        "    \"\"\"\n",
        "    Fit model on train_df and return positive-class probabilities on test_df.\n",
        "    Falls back to scaling decision_function if predict_proba is unavailable.\n",
        "    \"\"\"\n",
        "    model.fit(train_df[predictors], train_df[\"Target\"])\n",
        "    if hasattr(model, \"predict_proba\"):\n",
        "        p = model.predict_proba(test_df[predictors])[:, 1]\n",
        "    else:\n",
        "        s = model.decision_function(test_df[predictors])\n",
        "        p = (s - s.min()) / (s.max() - s.min() + 1e-9)\n",
        "    return pd.Series(p, index=test_df.index, name=\"proba\")\n",
        "\n",
        "def backtest_models(\n",
        "    data: pd.DataFrame,\n",
        "    models: dict,\n",
        "    predictors: list,\n",
        "    start: int = 2500,\n",
        "    step: int = 250,\n",
        "    threshold: float = 0.60\n",
        ") -> dict:\n",
        "    \"\"\"\n",
        "    Expanding-window walk-forward backtest:\n",
        "      For i in [start, ..., n, step]:\n",
        "        - train = data[:i]\n",
        "        - test  = data[i:i+step]\n",
        "    Returns dict[name] -> DataFrame with columns ['Target','proba','pred'] concatenated over folds.\n",
        "    \"\"\"\n",
        "    results = {name: [] for name in models}\n",
        "\n",
        "    for i in range(start, data.shape[0], step):\n",
        "        train = data.iloc[:i].copy()\n",
        "        test  = data.iloc[i:i+step].copy()\n",
        "        if test.empty:\n",
        "            break\n",
        "\n",
        "        for name, est in models.items():\n",
        "            proba = fit_predict_proba(est, train, test, predictors)\n",
        "            pred  = proba_to_labels(proba, threshold)\n",
        "            chunk = pd.DataFrame({\n",
        "                \"Target\": test[\"Target\"].astype(int),\n",
        "                \"proba\":  proba,\n",
        "                \"pred\":   pred\n",
        "            })\n",
        "            results[name].append(chunk)\n",
        "\n",
        "    # concatenate each model's folds\n",
        "    for name in results:\n",
        "        if results[name]:\n",
        "            results[name] = pd.concat(results[name]).sort_index()\n",
        "        else:\n",
        "            results[name] = pd.DataFrame(columns=[\"Target\",\"proba\",\"pred\"])\n",
        "\n",
        "    return results\n",
        "\n",
        "def summarize_results(results: dict) -> pd.DataFrame:\n",
        "    \"\"\"\n",
        "    Compute Precision, Recall, F1, Coverage (% of positive predictions), and confusion matrix counts.\n",
        "    Sorted by Precision by default; adjust if you prefer another metric.\n",
        "    \"\"\"\n",
        "    rows = []\n",
        "    for name, df in results.items():\n",
        "        if df.empty:\n",
        "            rows.append({\n",
        "                \"Model\": name, \"Precision\": np.nan, \"Recall\": np.nan, \"F1\": np.nan,\n",
        "                \"Coverage_%\": np.nan, \"TP\": 0, \"FP\": 0, \"TN\": 0, \"FN\": 0, \"N\": 0\n",
        "            })\n",
        "            continue\n",
        "\n",
        "        y_true = df[\"Target\"].astype(int).values\n",
        "        y_pred = df[\"pred\"].astype(int).values\n",
        "\n",
        "        prec = precision_score(y_true, y_pred, zero_division=0)\n",
        "        rec  = recall_score(y_true, y_pred, zero_division=0)\n",
        "        f1   = f1_score(y_true, y_pred, zero_division=0)\n",
        "        cov  = y_pred.mean()\n",
        "        tn, fp, fn, tp = confusion_matrix(y_true, y_pred, labels=[0,1]).ravel()\n",
        "\n",
        "        rows.append({\n",
        "            \"Model\": name,\n",
        "            \"Precision\": round(prec, 4),\n",
        "            \"Recall\": round(rec, 4),\n",
        "            \"F1\": round(f1, 4),\n",
        "            \"Coverage_%\": round(100 * cov, 2),\n",
        "            \"TP\": int(tp), \"FP\": int(fp), \"TN\": int(tn), \"FN\": int(fn),\n",
        "            \"N\": int(len(y_true))\n",
        "        })\n",
        "\n",
        "    return pd.DataFrame(rows).sort_values(by=\"Precision\", ascending=False).reset_index(drop=True)\n",
        "\n",
        "def attach_simple_pnl(df_preds: pd.DataFrame, prices: pd.DataFrame) -> pd.DataFrame:\n",
        "    \"\"\"\n",
        "    Simple gross PnL (no costs): decide after close at t, hold close->close t+1 only when pred==1.\n",
        "    Adds 'next_return' and 'strategy_return' columns to df_preds.\n",
        "    \"\"\"\n",
        "    next_ret = prices[\"Close\"].pct_change().shift(-1)  # r_{t+1} = Close_{t+1}/Close_t - 1\n",
        "    out = df_preds.copy()\n",
        "    out[\"next_return\"] = next_ret.reindex(out.index)\n",
        "    out[\"strategy_return\"] = out[\"pred\"] * out[\"next_return\"]\n",
        "    return out\n",
        "\n",
        "def summarize_pnl(results: dict, prices: pd.DataFrame) -> pd.DataFrame:\n",
        "    \"\"\"\n",
        "    Aggregate gross total return, average return per trade, and number of trades per model.\n",
        "    \"\"\"\n",
        "    rows = []\n",
        "    for name, df in results.items():\n",
        "        with_pnl = attach_simple_pnl(df, prices)\n",
        "        total = np.nansum(with_pnl[\"strategy_return\"].values)     # sum of daily strategy returns\n",
        "        avg   = np.nanmean(with_pnl[\"strategy_return\"].values)    # mean per day (only non-NaN days)\n",
        "        trades= int(with_pnl[\"pred\"].sum())                       # how many positive calls (trades)\n",
        "        rows.append({\n",
        "            \"Model\": name,\n",
        "            \"Trades\": trades,\n",
        "            \"Total_Return_%\": round(100 * total, 2),\n",
        "            \"Avg_Trade_Return_%\": round(100 * avg, 3)\n",
        "        })\n",
        "    return pd.DataFrame(rows).sort_values(by=\"Total_Return_%\", ascending=False).reset_index(drop=True)"
      ],
      "metadata": {
        "id": "KDVyArkNqPtQ"
      },
      "execution_count": 20,
      "outputs": []
    },
    {
      "cell_type": "markdown",
      "source": [
        "7) Define models (Random Forest vs XGBoost)"
      ],
      "metadata": {
        "id": "4_Mh73_-qSK4"
      }
    },
    {
      "cell_type": "code",
      "source": [
        "# ------------------------------------------------------------\n",
        "# Step 7) Define models: Random Forest vs XGBoost\n",
        "# ------------------------------------------------------------\n",
        "rf = RandomForestClassifier(\n",
        "    n_estimators=200,\n",
        "    min_samples_split=50,\n",
        "    random_state=RNG_SEED,\n",
        "    n_jobs=-1\n",
        ")\n",
        "\n",
        "xgb = XGBClassifier(\n",
        "    n_estimators=500,\n",
        "    max_depth=4,\n",
        "    learning_rate=0.05,\n",
        "    subsample=0.8,\n",
        "    colsample_bytree=0.8,\n",
        "    reg_lambda=1.0,\n",
        "    eval_metric=\"logloss\",\n",
        "    random_state=RNG_SEED,\n",
        "    n_jobs=-1,\n",
        "    tree_method=\"hist\"   # fast & robust on CPU\n",
        ")\n",
        "\n",
        "models = {\"RandomForest\": rf, \"XGBoost\": xgb}"
      ],
      "metadata": {
        "id": "zxJZr7EVqVNT"
      },
      "execution_count": 33,
      "outputs": []
    },
    {
      "cell_type": "markdown",
      "source": [
        "8) Run the walk-forward comparison (engineered features for both)"
      ],
      "metadata": {
        "id": "R5q8DXPfqZpt"
      }
    },
    {
      "cell_type": "code",
      "source": [
        "# ------------------------------------------------------------\n",
        "# Step 8) Walk-forward comparison using engineered features\n",
        "# ------------------------------------------------------------\n",
        "predictors = new_predictors    # use the engineered features from Step 5\n",
        "\n",
        "START = 2500                   # first test fold starts after 2,500 training rows\n",
        "STEP  = 250                    # each fold tests the next 250 rows\n",
        "THRESHOLD = 0.60               # probability cut to label 1\n",
        "\n",
        "results = backtest_models(\n",
        "    data=data_ml,\n",
        "    models=models,\n",
        "    predictors=predictors,\n",
        "    start=START,\n",
        "    step=STEP,\n",
        "    threshold=THRESHOLD\n",
        ")\n",
        "\n",
        "metrics_table = summarize_results(results)\n",
        "pnl_table     = summarize_pnl(results, prices=data_ml[[\"Close\"]])\n",
        "\n",
        "print(\"Classification metrics (engineered features):\")\n",
        "print(metrics_table, \"\\n\")\n",
        "\n",
        "print(\"Simple gross PnL summary (engineered features):\")\n",
        "print(pnl_table, \"\\n\")"
      ],
      "metadata": {
        "colab": {
          "base_uri": "https://localhost:8080/"
        },
        "id": "Z35_hj7oqalX",
        "outputId": "ac311e93-57bd-427e-cd40-92f9095d1422"
      },
      "execution_count": 34,
      "outputs": [
        {
          "output_type": "stream",
          "name": "stdout",
          "text": [
            "Classification metrics (engineered features):\n",
            "          Model  Precision  Recall      F1  Coverage_%   TP   FP    TN    FN  \\\n",
            "0  RandomForest     0.5810  0.0959  0.1647        8.90  165  119  1353  1555   \n",
            "1       XGBoost     0.5743  0.3012  0.3951       28.26  518  384  1088  1202   \n",
            "\n",
            "      N  \n",
            "0  3192  \n",
            "1  3192   \n",
            "\n",
            "Simple gross PnL summary (engineered features):\n",
            "          Model  Trades  Total_Return_%  Avg_Trade_Return_%\n",
            "0       XGBoost     902          387.26               0.121\n",
            "1  RandomForest     284          157.69               0.049 \n",
            "\n"
          ]
        }
      ]
    },
    {
      "cell_type": "markdown",
      "source": [
        "9) Precision/coverage vs threshold for XGBoost (pick your operating point)"
      ],
      "metadata": {
        "id": "9XqJEuK5radx"
      }
    },
    {
      "cell_type": "code",
      "source": [
        "# ------------------------------------------------------------\n",
        "# Step 9) Threshold tuning curves for XGBoost\n",
        "# ------------------------------------------------------------\n",
        "# We sweep thresholds and show how precision and coverage move.\n",
        "xgb_df = results[\"XGBoost\"]\n",
        "y_true = xgb_df[\"Target\"].values\n",
        "p      = xgb_df[\"proba\"].values\n",
        "\n",
        "ths = np.linspace(0.50, 0.80, 16)\n",
        "precisions, coverages = [], []\n",
        "\n",
        "for t in ths:\n",
        "    yhat = (p >= t).astype(int)\n",
        "    precisions.append(precision_score(y_true, yhat, zero_division=0))\n",
        "    coverages.append(yhat.mean())\n",
        "\n",
        "plt.figure()\n",
        "plt.plot(ths, precisions, marker=\"o\")\n",
        "plt.title(\"XGBoost Precision vs Threshold\")\n",
        "plt.xlabel(\"Threshold\"); plt.ylabel(\"Precision\")\n",
        "plt.show()\n",
        "\n",
        "plt.figure()\n",
        "plt.plot(ths, np.array(coverages) * 100, marker=\"o\")\n",
        "plt.title(\"XGBoost Coverage vs Threshold\")\n",
        "plt.xlabel(\"Threshold\"); plt.ylabel(\"Coverage (%)\")\n",
        "plt.show()"
      ],
      "metadata": {
        "colab": {
          "base_uri": "https://localhost:8080/",
          "height": 927
        },
        "id": "bjqD8GrQrWJ7",
        "outputId": "f0500b25-a606-4fca-8148-7234824ef402"
      },
      "execution_count": 35,
      "outputs": [
        {
          "output_type": "display_data",
          "data": {
            "text/plain": [
              "<Figure size 640x480 with 1 Axes>"
            ],
            "image/png": "[encoded data removed]"
          },
          "metadata": {}
        },
        {
          "output_type": "display_data",
          "data": {
            "text/plain": [
              "<Figure size 640x480 with 1 Axes>"
            ],
            "image/png": "[encoded data removed]"
          },
          "metadata": {}
        }
      ]
    },
    {
      "cell_type": "markdown",
      "source": [
        "10) Compare to raw OHLCV features (sanity check on feature value)"
      ],
      "metadata": {
        "id": "QKQxkvnprj4Y"
      }
    },
    {
      "cell_type": "code",
      "source": [
        "# ------------------------------------------------------------\n",
        "# Step 10) Compare to RAW OHLCV features\n",
        "# ------------------------------------------------------------\n",
        "# Re-run the same backtest using only raw OHLCV to quantify the value of engineering.\n",
        "models_raw = {\"RandomForest_raw\": rf, \"XGBoost_raw\": xgb}\n",
        "\n",
        "results_raw = backtest_models(\n",
        "    data=data_ml,  # same date span for fairness\n",
        "    models=models_raw,\n",
        "    predictors=[\"Close\",\"Volume\",\"Open\",\"High\",\"Low\"],\n",
        "    start=START,\n",
        "    step=STEP,\n",
        "    threshold=THRESHOLD\n",
        ")\n",
        "\n",
        "metrics_raw = summarize_results(results_raw)\n",
        "pnl_raw     = summarize_pnl(results_raw, prices=data_ml[[\"Close\"]])\n",
        "\n",
        "print(\"Classification metrics (RAW OHLCV):\")\n",
        "print(metrics_raw, \"\\n\")\n",
        "\n",
        "print(\"Simple gross PnL summary (RAW OHLCV):\")\n",
        "print(pnl_raw, \"\\n\")"
      ],
      "metadata": {
        "colab": {
          "base_uri": "https://localhost:8080/"
        },
        "id": "biGnpIeSrowU",
        "outputId": "982f0907-fbe7-49e4-dbf4-2e361c0d2da2"
      },
      "execution_count": 36,
      "outputs": [
        {
          "output_type": "stream",
          "name": "stdout",
          "text": [
            "Classification metrics (RAW OHLCV):\n",
            "              Model  Precision  Recall      F1  Coverage_%   TP   FP    TN  \\\n",
            "0  RandomForest_raw     0.5551  0.1552  0.2426       15.07  267  214  1258   \n",
            "1       XGBoost_raw     0.5293  0.2733  0.3604       27.82  470  418  1054   \n",
            "\n",
            "     FN     N  \n",
            "0  1453  3192  \n",
            "1  1250  3192   \n",
            "\n",
            "Simple gross PnL summary (RAW OHLCV):\n",
            "              Model  Trades  Total_Return_%  Avg_Trade_Return_%\n",
            "0       XGBoost_raw     888          189.52               0.059\n",
            "1  RandomForest_raw     481           79.39               0.025 \n",
            "\n"
          ]
        }
      ]
    },
    {
      "cell_type": "markdown",
      "source": [
        "# Conclusion\n",
        "\n",
        "**Goal:** Predict NVDA’s next-day direction and convert model probabilities into actionable, one-day long signals.  \n",
        "**Method:** Causal rolling features + expanding walk-forward backtest; compare Random Forest vs XGBoost; classify with a probability threshold.\n",
        "\n",
        "## Key findings\n",
        "- **XGBoost + engineered features** is the clear winner.\n",
        "  - **Precision:** 0.574  \n",
        "  - **Recall:** 0.301  \n",
        "  - **F1:** 0.395  \n",
        "  - **Coverage:** 28.26% of days  \n",
        "  - **Gross PnL (close→close):** **+387.3%** over **902** trades (avg “trade-day” ≈ **+0.121%**)\n",
        "- **Random Forest + engineered features**\n",
        "  - Precision 0.581, Recall 0.096, F1 0.165, Coverage 8.90%  \n",
        "  - Gross PnL **+157.7%** over 284 trades (avg “trade-day” ≈ **+0.049%**)\n",
        "- **Engineered rolling features materially help** (vs raw OHLCV):\n",
        "  - XGBoost raw → **+189.5%**; with features → **+387.3%**\n",
        "- **Threshold trade-off (XGBoost):** raising the cutoff increases precision and reduces coverage; pick based on **net** out-of-sample PnL, not just hit rate.\n",
        "\n",
        "## What this means\n",
        "- Both models beat a naive “always up” precision by a few points, but **XGBoost captures far more winners** (higher recall at similar precision), leading to many more profitable opportunities and higher aggregate PnL.\n",
        "- Simple, causal momentum/trend features across multiple horizons give the trees useful, time-aware context.\n",
        "\n",
        "## Caveats\n",
        "- PnL is **gross**, **close→close**, and **not compounded** → optimistic.  \n",
        "- No transaction costs or slippage modeled.  \n",
        "- Single-asset results can be **regime-dependent**.\n",
        "\n",
        "## Next steps\n",
        "1. Use **next-day open→close** returns, add **transaction costs**, and plot a **compounded equity curve** (CAGR, max DD, Sharpe).  \n",
        "2. Tune **XGBoost hyperparameters** and the **probability threshold** with **time-series CV** inside training folds.  \n",
        "3. Test robustness by **era** and try additional causal features (volatility, gaps, breakouts) and **probability calibration**.\n",
        "\n",
        "**Bottom line:** With simple causal features and a proper walk-forward backtest, **XGBoost outperforms Random Forest** on NVDA next-day direction, delivering higher recall and substantially better gross PnL. Make execution more realistic and add costs before treating it as tradable.\n"
      ],
      "metadata": {
        "id": "A7PwEtwRzKHR"
      }
    }
  ]
}